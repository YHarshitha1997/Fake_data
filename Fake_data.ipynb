{
 "cells": [
  {
   "cell_type": "code",
   "execution_count": 1,
   "id": "c84a54f6",
   "metadata": {},
   "outputs": [
    {
     "name": "stdout",
     "output_type": "stream",
     "text": [
      "Requirement already satisfied: Faker in /Users/harshithayentrapragada/opt/anaconda3/lib/python3.8/site-packages (8.13.2)\r\n",
      "Requirement already satisfied: python-dateutil>=2.4 in /Users/harshithayentrapragada/opt/anaconda3/lib/python3.8/site-packages (from Faker) (2.8.1)\r\n",
      "Requirement already satisfied: text-unidecode==1.3 in /Users/harshithayentrapragada/opt/anaconda3/lib/python3.8/site-packages (from Faker) (1.3)\r\n",
      "Requirement already satisfied: six>=1.5 in /Users/harshithayentrapragada/opt/anaconda3/lib/python3.8/site-packages (from python-dateutil>=2.4->Faker) (1.15.0)\r\n"
     ]
    }
   ],
   "source": [
    "!pip install Faker\n",
    "import pandas as pd\n",
    "import numpy as np\n",
    "from faker import Faker"
   ]
  },
  {
   "cell_type": "code",
   "execution_count": 2,
   "id": "50778274",
   "metadata": {},
   "outputs": [],
   "source": [
    "fake = Faker()\n",
    "def fake_data(num):    \n",
    "    house_list = ['rent', 'own']\n",
    "    salary_list = [400000,10000,20000,50000,100000,60000 ]\n",
    "    fake_name=[{'name':fake.name(),\n",
    "                  'email':fake.email(), \n",
    "                  'phonenumber':fake.phone_number(),\n",
    "                  'address':fake.address(),\n",
    "                  'yearborn':fake.date_of_birth().year,\n",
    "                  'numberofkids':np.random.randint(0,5),\n",
    "                  'houselist':np.random.choice(house_list, p=[0.75, 0.25]), \n",
    "                  'salarylist':np.random.choice(salary_list),\n",
    "                  'speedtickets':np.random.randint(0,10)}for x in range(num)]\n",
    "    return fake_name\n",
    "name_df = pd.DataFrame(fake_data(100))"
   ]
  },
  {
   "cell_type": "code",
   "execution_count": 3,
   "id": "757e96ef",
   "metadata": {},
   "outputs": [],
   "source": [
    "name_df.to_csv(\"harshitha.csv\")"
   ]
  },
  {
   "cell_type": "code",
   "execution_count": 4,
   "id": "f4c15791",
   "metadata": {},
   "outputs": [
    {
     "data": {
      "text/html": [
       "<div>\n",
       "<style scoped>\n",
       "    .dataframe tbody tr th:only-of-type {\n",
       "        vertical-align: middle;\n",
       "    }\n",
       "\n",
       "    .dataframe tbody tr th {\n",
       "        vertical-align: top;\n",
       "    }\n",
       "\n",
       "    .dataframe thead th {\n",
       "        text-align: right;\n",
       "    }\n",
       "</style>\n",
       "<table border=\"1\" class=\"dataframe\">\n",
       "  <thead>\n",
       "    <tr style=\"text-align: right;\">\n",
       "      <th></th>\n",
       "      <th>name</th>\n",
       "      <th>email</th>\n",
       "      <th>phonenumber</th>\n",
       "      <th>address</th>\n",
       "      <th>yearborn</th>\n",
       "      <th>numberofkids</th>\n",
       "      <th>houselist</th>\n",
       "      <th>salarylist</th>\n",
       "      <th>speedtickets</th>\n",
       "    </tr>\n",
       "  </thead>\n",
       "  <tbody>\n",
       "    <tr>\n",
       "      <th>0</th>\n",
       "      <td>Phillip Stephens</td>\n",
       "      <td>owalters@krause.com</td>\n",
       "      <td>(484)335-9903</td>\n",
       "      <td>Unit 7432 Box 9398\\nDPO AA 08612</td>\n",
       "      <td>1992</td>\n",
       "      <td>3</td>\n",
       "      <td>rent</td>\n",
       "      <td>60000</td>\n",
       "      <td>2</td>\n",
       "    </tr>\n",
       "    <tr>\n",
       "      <th>1</th>\n",
       "      <td>Jimmy Robles</td>\n",
       "      <td>mirandamartinez@hotmail.com</td>\n",
       "      <td>421-204-3246x2302</td>\n",
       "      <td>7352 Wolfe Greens\\nSouth Jamesborough, AL 30399</td>\n",
       "      <td>1972</td>\n",
       "      <td>0</td>\n",
       "      <td>rent</td>\n",
       "      <td>400000</td>\n",
       "      <td>0</td>\n",
       "    </tr>\n",
       "    <tr>\n",
       "      <th>2</th>\n",
       "      <td>Brendan Lopez</td>\n",
       "      <td>coopersavannah@yahoo.com</td>\n",
       "      <td>(537)652-1698</td>\n",
       "      <td>47597 Jodi Court Suite 680\\nSolomonborough, HI...</td>\n",
       "      <td>1912</td>\n",
       "      <td>2</td>\n",
       "      <td>rent</td>\n",
       "      <td>100000</td>\n",
       "      <td>6</td>\n",
       "    </tr>\n",
       "    <tr>\n",
       "      <th>3</th>\n",
       "      <td>Steven Robinson</td>\n",
       "      <td>jorgelittle@gmail.com</td>\n",
       "      <td>4015205767</td>\n",
       "      <td>0875 Caleb Isle Suite 099\\nNew Michaelborough,...</td>\n",
       "      <td>1923</td>\n",
       "      <td>1</td>\n",
       "      <td>own</td>\n",
       "      <td>50000</td>\n",
       "      <td>6</td>\n",
       "    </tr>\n",
       "    <tr>\n",
       "      <th>4</th>\n",
       "      <td>Chad Barrett</td>\n",
       "      <td>kristenvalentine@hotmail.com</td>\n",
       "      <td>001-412-096-8958x94271</td>\n",
       "      <td>PSC 9915, Box 5985\\nAPO AE 83192</td>\n",
       "      <td>1985</td>\n",
       "      <td>3</td>\n",
       "      <td>rent</td>\n",
       "      <td>50000</td>\n",
       "      <td>8</td>\n",
       "    </tr>\n",
       "  </tbody>\n",
       "</table>\n",
       "</div>"
      ],
      "text/plain": [
       "               name                         email             phonenumber  \\\n",
       "0  Phillip Stephens           owalters@krause.com           (484)335-9903   \n",
       "1      Jimmy Robles   mirandamartinez@hotmail.com       421-204-3246x2302   \n",
       "2     Brendan Lopez      coopersavannah@yahoo.com           (537)652-1698   \n",
       "3   Steven Robinson         jorgelittle@gmail.com              4015205767   \n",
       "4      Chad Barrett  kristenvalentine@hotmail.com  001-412-096-8958x94271   \n",
       "\n",
       "                                             address  yearborn  numberofkids  \\\n",
       "0                   Unit 7432 Box 9398\\nDPO AA 08612      1992             3   \n",
       "1    7352 Wolfe Greens\\nSouth Jamesborough, AL 30399      1972             0   \n",
       "2  47597 Jodi Court Suite 680\\nSolomonborough, HI...      1912             2   \n",
       "3  0875 Caleb Isle Suite 099\\nNew Michaelborough,...      1923             1   \n",
       "4                   PSC 9915, Box 5985\\nAPO AE 83192      1985             3   \n",
       "\n",
       "  houselist  salarylist  speedtickets  \n",
       "0      rent       60000             2  \n",
       "1      rent      400000             0  \n",
       "2      rent      100000             6  \n",
       "3       own       50000             6  \n",
       "4      rent       50000             8  "
      ]
     },
     "execution_count": 4,
     "metadata": {},
     "output_type": "execute_result"
    }
   ],
   "source": [
    "name_df.head()"
   ]
  },
  {
   "cell_type": "code",
   "execution_count": null,
   "id": "5b05cfea",
   "metadata": {},
   "outputs": [],
   "source": []
  }
 ],
 "metadata": {
  "kernelspec": {
   "display_name": "Python 3",
   "language": "python",
   "name": "python3"
  },
  "language_info": {
   "codemirror_mode": {
    "name": "ipython",
    "version": 3
   },
   "file_extension": ".py",
   "mimetype": "text/x-python",
   "name": "python",
   "nbconvert_exporter": "python",
   "pygments_lexer": "ipython3",
   "version": "3.8.8"
  }
 },
 "nbformat": 4,
 "nbformat_minor": 5
}
